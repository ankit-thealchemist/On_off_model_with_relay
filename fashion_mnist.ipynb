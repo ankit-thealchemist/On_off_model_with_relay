{
  "nbformat": 4,
  "nbformat_minor": 0,
  "metadata": {
    "colab": {
      "name": "fashion_mnist.ipynb",
      "provenance": [],
      "collapsed_sections": [],
      "authorship_tag": "ABX9TyNhXiu3tbO5a2u3Hw5mMS50",
      "include_colab_link": true
    },
    "kernelspec": {
      "name": "python3",
      "display_name": "Python 3"
    },
    "accelerator": "GPU"
  },
  "cells": [
    {
      "cell_type": "markdown",
      "metadata": {
        "id": "view-in-github",
        "colab_type": "text"
      },
      "source": [
        "<a href=\"https://colab.research.google.com/github/ankit-thealchemist/On_off_model_with_relay/blob/master/fashion_mnist.ipynb\" target=\"_parent\"><img src=\"https://colab.research.google.com/assets/colab-badge.svg\" alt=\"Open In Colab\"/></a>"
      ]
    },
    {
      "cell_type": "code",
      "metadata": {
        "id": "0wvaHuR2ZxkK"
      },
      "source": [
        "import tensorflow as tf\n",
        "from tensorflow import keras\n",
        "from tensorflow.keras import layers, models\n",
        "from tensorflow.keras.models import load_model\n",
        "from tensorflow.keras.layers import BatchNormalization\n",
        "import os\n",
        "import datetime\n",
        "#%load_ext tensorboard\n",
        "#!rm -rf ./logs/fit"
      ],
      "execution_count": 1,
      "outputs": []
    },
    {
      "cell_type": "code",
      "metadata": {
        "id": "nQ-gtO9ia57z",
        "outputId": "00b939ed-a5c7-4448-bc9c-8280b18e89a0",
        "colab": {
          "base_uri": "https://localhost:8080/"
        }
      },
      "source": [
        "print(tf.__version__)\n",
        "print(tf.keras.__version__)"
      ],
      "execution_count": 2,
      "outputs": [
        {
          "output_type": "stream",
          "text": [
            "2.3.0\n",
            "2.4.0\n"
          ],
          "name": "stdout"
        }
      ]
    },
    {
      "cell_type": "code",
      "metadata": {
        "id": "nfMGq3WvbL5L"
      },
      "source": [
        "import numpy as np\n",
        "import matplotlib.pyplot as plt\n",
        "fashion_mnist = keras.datasets.fashion_mnist"
      ],
      "execution_count": 3,
      "outputs": []
    },
    {
      "cell_type": "code",
      "metadata": {
        "id": "XGlGATDibqYq"
      },
      "source": [
        "(train_images,train_labels) , (test_images,test_labels) = fashion_mnist.load_data()"
      ],
      "execution_count": 4,
      "outputs": []
    },
    {
      "cell_type": "code",
      "metadata": {
        "id": "wrf-S8L1cDB0"
      },
      "source": [
        "class_names = ['T-shirt/top', 'Trouser', 'Pullover', 'Dress', 'Coat', \n",
        "               'Sandal', 'Shirt', 'Sneaker', 'Bag', 'Ankle boot']"
      ],
      "execution_count": 5,
      "outputs": []
    },
    {
      "cell_type": "code",
      "metadata": {
        "id": "IVEauUzicbhF",
        "outputId": "e53d9dbe-5c5c-4934-a520-c96e7d232edc",
        "colab": {
          "base_uri": "https://localhost:8080/"
        }
      },
      "source": [
        "train_images.shape"
      ],
      "execution_count": 6,
      "outputs": [
        {
          "output_type": "execute_result",
          "data": {
            "text/plain": [
              "(60000, 28, 28)"
            ]
          },
          "metadata": {
            "tags": []
          },
          "execution_count": 6
        }
      ]
    },
    {
      "cell_type": "code",
      "metadata": {
        "id": "pLJwO6ygcdqJ",
        "outputId": "d49bbc83-cf72-48f1-fe82-c61fde6fbb64",
        "colab": {
          "base_uri": "https://localhost:8080/"
        }
      },
      "source": [
        "train_labels.shape"
      ],
      "execution_count": 7,
      "outputs": [
        {
          "output_type": "execute_result",
          "data": {
            "text/plain": [
              "(60000,)"
            ]
          },
          "metadata": {
            "tags": []
          },
          "execution_count": 7
        }
      ]
    },
    {
      "cell_type": "code",
      "metadata": {
        "id": "dfEoCmAWciu1",
        "outputId": "94c575f6-eece-436c-b02b-a80443857935",
        "colab": {
          "base_uri": "https://localhost:8080/",
          "height": 51
        }
      },
      "source": [
        "plt.figure()"
      ],
      "execution_count": 8,
      "outputs": [
        {
          "output_type": "execute_result",
          "data": {
            "text/plain": [
              "<Figure size 432x288 with 0 Axes>"
            ]
          },
          "metadata": {
            "tags": []
          },
          "execution_count": 8
        },
        {
          "output_type": "display_data",
          "data": {
            "text/plain": [
              "<Figure size 432x288 with 0 Axes>"
            ]
          },
          "metadata": {
            "tags": []
          }
        }
      ]
    },
    {
      "cell_type": "code",
      "metadata": {
        "id": "T7ScuEdicosq",
        "outputId": "d3eecb3d-156b-4d61-c66f-e6179b9db01b",
        "colab": {
          "base_uri": "https://localhost:8080/",
          "height": 282
        }
      },
      "source": [
        "plt.imshow(train_images[221],cmap= plt.cm.binary)\n",
        "train_labels[221]"
      ],
      "execution_count": 9,
      "outputs": [
        {
          "output_type": "execute_result",
          "data": {
            "text/plain": [
              "7"
            ]
          },
          "metadata": {
            "tags": []
          },
          "execution_count": 9
        },
        {
          "output_type": "display_data",
          "data": {
            "image/png": "[encoded data removed]",
            "text/plain": [
              "<Figure size 432x288 with 1 Axes>"
            ]
          },
          "metadata": {
            "tags": [],
            "needs_background": "light"
          }
        }
      ]
    },
    {
      "cell_type": "code",
      "metadata": {
        "id": "zkSxfKQ0c5Iu",
        "outputId": "f51041ff-c912-4f24-d51e-9e976b09250d",
        "colab": {
          "base_uri": "https://localhost:8080/"
        }
      },
      "source": [
        "train_images.shape"
      ],
      "execution_count": 10,
      "outputs": [
        {
          "output_type": "execute_result",
          "data": {
            "text/plain": [
              "(60000, 28, 28)"
            ]
          },
          "metadata": {
            "tags": []
          },
          "execution_count": 10
        }
      ]
    },
    {
      "cell_type": "code",
      "metadata": {
        "id": "5BKLI7uUGk-y"
      },
      "source": [
        "train_images = train_images.reshape((60000,28,28,1))"
      ],
      "execution_count": 11,
      "outputs": []
    },
    {
      "cell_type": "code",
      "metadata": {
        "id": "7bn9ZkPqH07k"
      },
      "source": [
        "test_images = test_images.reshape((10000,28,28,1))"
      ],
      "execution_count": 12,
      "outputs": []
    },
    {
      "cell_type": "code",
      "metadata": {
        "id": "AqBk54Q8FHUl"
      },
      "source": [
        "train_images = train_images.astype('float')/255\n",
        "test_images = test_images.astype('float')/255"
      ],
      "execution_count": 13,
      "outputs": []
    },
    {
      "cell_type": "code",
      "metadata": {
        "id": "YuLqQtBdIE5f"
      },
      "source": [
        "#now making the model \n",
        "model = keras.Sequential(name = \"fashion_mnist\")\n"
      ],
      "execution_count": 14,
      "outputs": []
    },
    {
      "cell_type": "code",
      "metadata": {
        "id": "-FL647ExIhrA",
        "outputId": "955f83d4-1f9a-4abb-80a0-8d7422f87093",
        "colab": {
          "base_uri": "https://localhost:8080/"
        }
      },
      "source": [
        "# adding the layer one by one \n",
        "# First convolutional layer. \n",
        "# Number of neurons = 32\n",
        "# filter(kernel) size = 3x3\n",
        "# Activation function = Relu\n",
        "# input data (images) size (height, width, channels) = (28, 28, 1)\n",
        "# Channels is 'colors' here. Since fashion MNIST images are grayscale, number of colors = 1, hence, channels = 1\n",
        "\n",
        "#first CONV => RELU => CONV => RELU => POOL layer set\n",
        "model.add(layers.Conv2D(filters=32,padding=\"same\",kernel_size=(3,3),activation='relu',input_shape=(28,28,1),\n",
        "                        ))\n",
        "model.add(BatchNormalization())\n",
        "model.add(layers.Conv2D(filters=32,kernel_size=(3,3),padding=\"same\"))\n",
        "#adding the max pooling layer\n",
        "model.add(BatchNormalization())\n",
        "model.add(layers.MaxPooling2D((2,2)))\n",
        "#adding the droppout layer for more accuracy\n",
        "model.add(layers.Dropout(.25))\n",
        "\n",
        "\n",
        "#adding the second layer of aCONV => RELU => CONV => RELU => POOL layer set\n",
        "model.add(layers.Conv2D(64,kernel_size=(3,3),activation='relu',padding=\"same\"\n",
        "         ))\n",
        "model.add(BatchNormalization())\n",
        "model.add(layers.Conv2D(filters=64,kernel_size=(3,3),activation='relu'))\n",
        "model.add(BatchNormalization())\n",
        "#adding the max pooling layer\n",
        "model.add(layers.MaxPooling2D((2,2)))\n",
        "#adding the droppout layer for more accuracy\n",
        "model.add(layers.Dropout(.25))\n",
        "\n",
        "\n",
        "model.add(layers.Flatten())\n",
        "#Creating the dense layer for further connection \n",
        "model.add(layers.Dense(512,activation='relu',\n",
        "                       #kernel_regularizer=tf.keras.regularizers.l2(l2=0.0001)\n",
        "                       ))\n",
        "# Adding the last layer for the classification of the various items adding the softmax activation for the probability distribution \n",
        "model.add(BatchNormalization())\n",
        "model.add(layers.Dropout(.5))\n",
        "model.add(layers.Dense(512,activation='relu',\n",
        "                       #kernel_regularizer=tf.keras.regularizers.l2(l2=0.0001)\n",
        "                       ))\n",
        "model.add(BatchNormalization())\n",
        "model.add(layers.Dense(10, activation='softmax'))\n",
        "model.summary()"
      ],
      "execution_count": 15,
      "outputs": [
        {
          "output_type": "stream",
          "text": [
            "Model: \"fashion_mnist\"\n",
            "_________________________________________________________________\n",
            "Layer (type)                 Output Shape              Param #   \n",
            "=================================================================\n",
            "conv2d (Conv2D)              (None, 28, 28, 32)        320       \n",
            "_________________________________________________________________\n",
            "batch_normalization (BatchNo (None, 28, 28, 32)        128       \n",
            "_________________________________________________________________\n",
            "conv2d_1 (Conv2D)            (None, 28, 28, 32)        9248      \n",
            "_________________________________________________________________\n",
            "batch_normalization_1 (Batch (None, 28, 28, 32)        128       \n",
            "_________________________________________________________________\n",
            "max_pooling2d (MaxPooling2D) (None, 14, 14, 32)        0         \n",
            "_________________________________________________________________\n",
            "dropout (Dropout)            (None, 14, 14, 32)        0         \n",
            "_________________________________________________________________\n",
            "conv2d_2 (Conv2D)            (None, 14, 14, 64)        18496     \n",
            "_________________________________________________________________\n",
            "batch_normalization_2 (Batch (None, 14, 14, 64)        256       \n",
            "_________________________________________________________________\n",
            "conv2d_3 (Conv2D)            (None, 12, 12, 64)        36928     \n",
            "_________________________________________________________________\n",
            "batch_normalization_3 (Batch (None, 12, 12, 64)        256       \n",
            "_________________________________________________________________\n",
            "max_pooling2d_1 (MaxPooling2 (None, 6, 6, 64)          0         \n",
            "_________________________________________________________________\n",
            "dropout_1 (Dropout)          (None, 6, 6, 64)          0         \n",
            "_________________________________________________________________\n",
            "flatten (Flatten)            (None, 2304)              0         \n",
            "_________________________________________________________________\n",
            "dense (Dense)                (None, 512)               1180160   \n",
            "_________________________________________________________________\n",
            "batch_normalization_4 (Batch (None, 512)               2048      \n",
            "_________________________________________________________________\n",
            "dropout_2 (Dropout)          (None, 512)               0         \n",
            "_________________________________________________________________\n",
            "dense_1 (Dense)              (None, 512)               262656    \n",
            "_________________________________________________________________\n",
            "batch_normalization_5 (Batch (None, 512)               2048      \n",
            "_________________________________________________________________\n",
            "dense_2 (Dense)              (None, 10)                5130      \n",
            "=================================================================\n",
            "Total params: 1,517,802\n",
            "Trainable params: 1,515,370\n",
            "Non-trainable params: 2,432\n",
            "_________________________________________________________________\n"
          ],
          "name": "stdout"
        }
      ]
    },
    {
      "cell_type": "code",
      "metadata": {
        "id": "Q_YfAXYOEN4S"
      },
      "source": [
        "model.compile(optimizer='adam',\n",
        "              loss='sparse_categorical_crossentropy',\n",
        "              metrics=['accuracy'])\n",
        "#log_dir = \"logs/fit/\" + datetime.datetime.now().strftime(\"%Y%m%d-%H%M%S\")\n",
        "#tensorboard_callback = tf.keras.callbacks.TensorBoard(log_dir=log_dir, histogram_freq=1)\n",
        "#%tensorboard --logdir logs/fit"
      ],
      "execution_count": 16,
      "outputs": []
    },
    {
      "cell_type": "code",
      "metadata": {
        "id": "PjgMUNYhE44D",
        "outputId": "084ca555-6a74-4090-c145-62e7da21b8f5",
        "colab": {
          "base_uri": "https://localhost:8080/"
        }
      },
      "source": [
        "#now training the model by shuffeling and validating the data of 10%\n",
        "\n",
        "graph = model.fit(train_images,train_labels,epochs=40,batch_size =  512,shuffle = True,validation_split= 0.1)"
      ],
      "execution_count": 17,
      "outputs": [
        {
          "output_type": "stream",
          "text": [
            "Epoch 1/40\n",
            "106/106 [==============================] - 4s 37ms/step - loss: 0.5566 - accuracy: 0.7996 - val_loss: 3.3870 - val_accuracy: 0.1008\n",
            "Epoch 2/40\n",
            "106/106 [==============================] - 4s 33ms/step - loss: 0.3411 - accuracy: 0.8753 - val_loss: 2.3936 - val_accuracy: 0.2672\n",
            "Epoch 3/40\n",
            "106/106 [==============================] - 4s 33ms/step - loss: 0.2907 - accuracy: 0.8914 - val_loss: 0.8295 - val_accuracy: 0.7140\n",
            "Epoch 4/40\n",
            "106/106 [==============================] - 4s 33ms/step - loss: 0.2563 - accuracy: 0.9064 - val_loss: 0.5640 - val_accuracy: 0.8083\n",
            "Epoch 5/40\n",
            "106/106 [==============================] - 4s 33ms/step - loss: 0.2382 - accuracy: 0.9114 - val_loss: 0.2838 - val_accuracy: 0.8983\n",
            "Epoch 6/40\n",
            "106/106 [==============================] - 4s 33ms/step - loss: 0.2175 - accuracy: 0.9183 - val_loss: 0.2162 - val_accuracy: 0.9203\n",
            "Epoch 7/40\n",
            "106/106 [==============================] - 4s 33ms/step - loss: 0.2085 - accuracy: 0.9231 - val_loss: 0.2092 - val_accuracy: 0.9243\n",
            "Epoch 8/40\n",
            "106/106 [==============================] - 4s 33ms/step - loss: 0.1959 - accuracy: 0.9276 - val_loss: 0.2108 - val_accuracy: 0.9247\n",
            "Epoch 9/40\n",
            "106/106 [==============================] - 4s 33ms/step - loss: 0.1829 - accuracy: 0.9324 - val_loss: 0.2071 - val_accuracy: 0.9257\n",
            "Epoch 10/40\n",
            "106/106 [==============================] - 4s 33ms/step - loss: 0.1723 - accuracy: 0.9354 - val_loss: 0.1993 - val_accuracy: 0.9330\n",
            "Epoch 11/40\n",
            "106/106 [==============================] - 4s 33ms/step - loss: 0.1662 - accuracy: 0.9378 - val_loss: 0.1993 - val_accuracy: 0.9287\n",
            "Epoch 12/40\n",
            "106/106 [==============================] - 4s 33ms/step - loss: 0.1601 - accuracy: 0.9395 - val_loss: 0.1860 - val_accuracy: 0.9353\n",
            "Epoch 13/40\n",
            "106/106 [==============================] - 3s 33ms/step - loss: 0.1526 - accuracy: 0.9427 - val_loss: 0.2049 - val_accuracy: 0.9283\n",
            "Epoch 14/40\n",
            "106/106 [==============================] - 4s 34ms/step - loss: 0.1448 - accuracy: 0.9464 - val_loss: 0.1842 - val_accuracy: 0.9338\n",
            "Epoch 15/40\n",
            "106/106 [==============================] - 4s 34ms/step - loss: 0.1369 - accuracy: 0.9486 - val_loss: 0.2033 - val_accuracy: 0.9320\n",
            "Epoch 16/40\n",
            "106/106 [==============================] - 4s 33ms/step - loss: 0.1318 - accuracy: 0.9507 - val_loss: 0.1874 - val_accuracy: 0.9367\n",
            "Epoch 17/40\n",
            "106/106 [==============================] - 4s 33ms/step - loss: 0.1289 - accuracy: 0.9516 - val_loss: 0.1920 - val_accuracy: 0.9345\n",
            "Epoch 18/40\n",
            "106/106 [==============================] - 4s 33ms/step - loss: 0.1205 - accuracy: 0.9547 - val_loss: 0.1758 - val_accuracy: 0.9385\n",
            "Epoch 19/40\n",
            "106/106 [==============================] - 4s 33ms/step - loss: 0.1164 - accuracy: 0.9555 - val_loss: 0.1840 - val_accuracy: 0.9403\n",
            "Epoch 20/40\n",
            "106/106 [==============================] - 4s 33ms/step - loss: 0.1069 - accuracy: 0.9600 - val_loss: 0.1822 - val_accuracy: 0.9392\n",
            "Epoch 21/40\n",
            "106/106 [==============================] - 4s 33ms/step - loss: 0.1061 - accuracy: 0.9596 - val_loss: 0.1875 - val_accuracy: 0.9377\n",
            "Epoch 22/40\n",
            "106/106 [==============================] - 4s 33ms/step - loss: 0.0990 - accuracy: 0.9629 - val_loss: 0.1882 - val_accuracy: 0.9375\n",
            "Epoch 23/40\n",
            "106/106 [==============================] - 4s 33ms/step - loss: 0.0987 - accuracy: 0.9627 - val_loss: 0.1879 - val_accuracy: 0.9397\n",
            "Epoch 24/40\n",
            "106/106 [==============================] - 4s 33ms/step - loss: 0.0987 - accuracy: 0.9623 - val_loss: 0.1809 - val_accuracy: 0.9437\n",
            "Epoch 25/40\n",
            "106/106 [==============================] - 4s 33ms/step - loss: 0.0865 - accuracy: 0.9670 - val_loss: 0.1857 - val_accuracy: 0.9400\n",
            "Epoch 26/40\n",
            "106/106 [==============================] - 4s 34ms/step - loss: 0.0855 - accuracy: 0.9677 - val_loss: 0.1955 - val_accuracy: 0.9403\n",
            "Epoch 27/40\n",
            "106/106 [==============================] - 4s 34ms/step - loss: 0.0822 - accuracy: 0.9683 - val_loss: 0.2022 - val_accuracy: 0.9373\n",
            "Epoch 28/40\n",
            "106/106 [==============================] - 4s 34ms/step - loss: 0.0817 - accuracy: 0.9690 - val_loss: 0.2069 - val_accuracy: 0.9388\n",
            "Epoch 29/40\n",
            "106/106 [==============================] - 4s 33ms/step - loss: 0.0745 - accuracy: 0.9716 - val_loss: 0.2021 - val_accuracy: 0.9393\n",
            "Epoch 30/40\n",
            "106/106 [==============================] - 4s 33ms/step - loss: 0.0772 - accuracy: 0.9709 - val_loss: 0.1984 - val_accuracy: 0.9385\n",
            "Epoch 31/40\n",
            "106/106 [==============================] - 4s 33ms/step - loss: 0.0689 - accuracy: 0.9741 - val_loss: 0.1889 - val_accuracy: 0.9420\n",
            "Epoch 32/40\n",
            "106/106 [==============================] - 4s 33ms/step - loss: 0.0703 - accuracy: 0.9738 - val_loss: 0.1993 - val_accuracy: 0.9395\n",
            "Epoch 33/40\n",
            "106/106 [==============================] - 4s 33ms/step - loss: 0.0678 - accuracy: 0.9745 - val_loss: 0.2027 - val_accuracy: 0.9403\n",
            "Epoch 34/40\n",
            "106/106 [==============================] - 4s 34ms/step - loss: 0.0674 - accuracy: 0.9748 - val_loss: 0.2049 - val_accuracy: 0.9412\n",
            "Epoch 35/40\n",
            "106/106 [==============================] - 4s 34ms/step - loss: 0.0636 - accuracy: 0.9764 - val_loss: 0.2117 - val_accuracy: 0.9405\n",
            "Epoch 36/40\n",
            "106/106 [==============================] - 4s 34ms/step - loss: 0.0627 - accuracy: 0.9761 - val_loss: 0.2018 - val_accuracy: 0.9407\n",
            "Epoch 37/40\n",
            "106/106 [==============================] - 4s 34ms/step - loss: 0.0611 - accuracy: 0.9772 - val_loss: 0.1985 - val_accuracy: 0.9415\n",
            "Epoch 38/40\n",
            "106/106 [==============================] - 4s 33ms/step - loss: 0.0551 - accuracy: 0.9793 - val_loss: 0.2048 - val_accuracy: 0.9418\n",
            "Epoch 39/40\n",
            "106/106 [==============================] - 4s 33ms/step - loss: 0.0550 - accuracy: 0.9795 - val_loss: 0.2237 - val_accuracy: 0.9402\n",
            "Epoch 40/40\n",
            "106/106 [==============================] - 4s 33ms/step - loss: 0.0533 - accuracy: 0.9802 - val_loss: 0.2072 - val_accuracy: 0.9430\n"
          ],
          "name": "stdout"
        }
      ]
    },
    {
      "cell_type": "code",
      "metadata": {
        "id": "0BxenOoFE4s4",
        "outputId": "d51bd4df-ac80-43f5-9e3b-6fb28256a2df",
        "colab": {
          "base_uri": "https://localhost:8080/"
        }
      },
      "source": [
        "test_loss, test_accuracy = model.evaluate(test_images,test_labels)"
      ],
      "execution_count": 18,
      "outputs": [
        {
          "output_type": "stream",
          "text": [
            "313/313 [==============================] - 1s 2ms/step - loss: 0.2381 - accuracy: 0.9377\n"
          ],
          "name": "stdout"
        }
      ]
    },
    {
      "cell_type": "code",
      "metadata": {
        "id": "RN9H0pxDHhxn",
        "outputId": "720902e8-0f4e-4eb1-ef1f-840d073405d9",
        "colab": {
          "base_uri": "https://localhost:8080/"
        }
      },
      "source": [
        "print(graph.history.keys())"
      ],
      "execution_count": 19,
      "outputs": [
        {
          "output_type": "stream",
          "text": [
            "dict_keys(['loss', 'accuracy', 'val_loss', 'val_accuracy'])\n"
          ],
          "name": "stdout"
        }
      ]
    },
    {
      "cell_type": "code",
      "metadata": {
        "id": "ZjmWcb3nQO4G",
        "outputId": "31619649-5cc9-410d-9b89-41275fc8a748",
        "colab": {
          "base_uri": "https://localhost:8080/",
          "height": 320
        }
      },
      "source": [
        "fig, axes = plt.subplots(1,2,figsize=(20,5))\n",
        "axes[0].plot(graph.history['loss'],color = 'red',label=\"loss\")\n",
        "axes[0].plot(graph.history['val_loss'],color ='blue',label=\"validation loss\")\n",
        "axes[1].plot(graph.history['accuracy'],label= \"accuracy\")\n",
        "axes[1].plot(graph.history['val_accuracy'],label=\"validation accuracy\")\n",
        "axes[0].legend()\n",
        "axes[1].legend()\n",
        "fig.show()"
      ],
      "execution_count": 20,
      "outputs": [
        {
          "output_type": "display_data",
          "data": {
            "image/png": "[encoded data removed]",
            "text/plain": [
              "<Figure size 1440x360 with 2 Axes>"
            ]
          },
          "metadata": {
            "tags": [],
            "needs_background": "light"
          }
        }
      ]
    },
    {
      "cell_type": "code",
      "metadata": {
        "id": "Tv-_uZefQ936"
      },
      "source": [
        ""
      ],
      "execution_count": 20,
      "outputs": []
    },
    {
      "cell_type": "code",
      "metadata": {
        "id": "hMaeZxlPkeNf"
      },
      "source": [
        ""
      ],
      "execution_count": 20,
      "outputs": []
    }
  ]
}